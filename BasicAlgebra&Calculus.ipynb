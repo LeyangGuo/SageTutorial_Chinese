{
 "cells": [
  {
   "cell_type": "code",
   "execution_count": 24,
   "id": "dd8a6074",
   "metadata": {},
   "outputs": [],
   "source": [
    "%display latex"
   ]
  },
  {
   "cell_type": "markdown",
   "id": "94cc1ae5",
   "metadata": {},
   "source": [
    "# 因式分解\n",
    "$ \\large{\\frac{1}{x^2-1}} $"
   ]
  },
  {
   "cell_type": "code",
   "execution_count": 22,
   "id": "53854fb8",
   "metadata": {
    "scrolled": false
   },
   "outputs": [
    {
     "data": {
      "text/html": [
       "<html>\\[\\newcommand{\\Bold}[1]{\\mathbf{#1}}-\\frac{1}{2 \\, {\\left(x\\left(t\\right) + 1\\right)}} + \\frac{1}{2 \\, {\\left(x\\left(t\\right) - 1\\right)}}\\]</html>"
      ],
      "text/latex": [
       "$$\\newcommand{\\Bold}[1]{\\mathbf{#1}}-\\frac{1}{2 \\, {\\left(x\\left(t\\right) + 1\\right)}} + \\frac{1}{2 \\, {\\left(x\\left(t\\right) - 1\\right)}}$$"
      ],
      "text/plain": [
       "-\\frac{1}{2 \\, {\\left(x\\left(t\\right) + 1\\right)}} + \\frac{1}{2 \\, {\\left(x\\left(t\\right) - 1\\right)}}"
      ]
     },
     "execution_count": 22,
     "metadata": {},
     "output_type": "execute_result"
    }
   ],
   "source": [
    "f = 1/((1+x)*(x-1))\n",
    "latex(f.partial_fraction(x))"
   ]
  },
  {
   "cell_type": "markdown",
   "id": "b24d30e1",
   "metadata": {},
   "source": [
    "# 解方程(解析解)\n",
    "## 多项式方程\n",
    "$ x^2+3x+2=0 $"
   ]
  },
  {
   "cell_type": "code",
   "execution_count": 25,
   "id": "2f27b123",
   "metadata": {},
   "outputs": [
    {
     "data": {
      "text/html": [
       "<html>\\[\\newcommand{\\Bold}[1]{\\mathbf{#1}}\\left[x = \\left(-2\\right), x = \\left(-1\\right)\\right]\\]</html>"
      ],
      "text/latex": [
       "$$\\newcommand{\\Bold}[1]{\\mathbf{#1}}\\left[x = \\left(-2\\right), x = \\left(-1\\right)\\right]$$"
      ],
      "text/plain": [
       "\\left[x = \\left(-2\\right), x = \\left(-1\\right)\\right]"
      ]
     },
     "execution_count": 25,
     "metadata": {},
     "output_type": "execute_result"
    }
   ],
   "source": [
    "x=var('x')\n",
    "latex(solve(x^2+3*x+2,x))"
   ]
  },
  {
   "cell_type": "markdown",
   "id": "ecd83c49",
   "metadata": {},
   "source": [
    "$ x^2+bx+c=0 $"
   ]
  },
  {
   "cell_type": "code",
   "execution_count": 26,
   "id": "632e44c6",
   "metadata": {},
   "outputs": [
    {
     "data": {
      "text/html": [
       "<html>\\[\\newcommand{\\Bold}[1]{\\mathbf{#1}}\\left[x = -\\frac{1}{2} \\, b - \\frac{1}{2} \\, \\sqrt{b^{2} - 4 \\, c}, x = -\\frac{1}{2} \\, b + \\frac{1}{2} \\, \\sqrt{b^{2} - 4 \\, c}\\right]\\]</html>"
      ],
      "text/latex": [
       "$$\\newcommand{\\Bold}[1]{\\mathbf{#1}}\\left[x = -\\frac{1}{2} \\, b - \\frac{1}{2} \\, \\sqrt{b^{2} - 4 \\, c}, x = -\\frac{1}{2} \\, b + \\frac{1}{2} \\, \\sqrt{b^{2} - 4 \\, c}\\right]$$"
      ],
      "text/plain": [
       "\\left[x = -\\frac{1}{2} \\, b - \\frac{1}{2} \\, \\sqrt{b^{2} - 4 \\, c}, x = -\\frac{1}{2} \\, b + \\frac{1}{2} \\, \\sqrt{b^{2} - 4 \\, c}\\right]"
      ]
     },
     "execution_count": 26,
     "metadata": {},
     "output_type": "execute_result"
    }
   ],
   "source": [
    "x,b,c = var('x b c')\n",
    "latex(solve(x^2+b*x+c,x))"
   ]
  },
  {
   "cell_type": "markdown",
   "id": "bcbde59b",
   "metadata": {},
   "source": [
    "## 线性方程组\n",
    "$\\begin{cases}x+y=6\\\\x-y=4\\end{cases}$"
   ]
  },
  {
   "cell_type": "code",
   "execution_count": 27,
   "id": "73baaf63",
   "metadata": {},
   "outputs": [
    {
     "data": {
      "text/html": [
       "<html>\\[\\newcommand{\\Bold}[1]{\\mathbf{#1}}\\left[\\left[x = 5, y = 1\\right]\\right]\\]</html>"
      ],
      "text/latex": [
       "$$\\newcommand{\\Bold}[1]{\\mathbf{#1}}\\left[\\left[x = 5, y = 1\\right]\\right]$$"
      ],
      "text/plain": [
       "\\left[\\left[x = 5, y = 1\\right]\\right]"
      ]
     },
     "execution_count": 27,
     "metadata": {},
     "output_type": "execute_result"
    }
   ],
   "source": [
    "x,y = var('x y')\n",
    "eq = [x+y==6, \n",
    "      x-y==4]\n",
    "latex(solve(eq,x,y))"
   ]
  },
  {
   "cell_type": "markdown",
   "id": "fd62f502",
   "metadata": {},
   "source": [
    "## 非线性方程组\n",
    "$ \\begin{cases}\n",
    "p+q=9 \\\\\n",
    "qy+px=-6 \\\\\n",
    "qy^2+px^2=24 \n",
    "\\end{cases}$"
   ]
  },
  {
   "cell_type": "code",
   "execution_count": 28,
   "id": "f1ef445e",
   "metadata": {},
   "outputs": [
    {
     "data": {
      "text/html": [
       "<html>\\[\\newcommand{\\Bold}[1]{\\mathbf{#1}}\\left[\\left[p = 1, q = 8, x = -\\frac{4}{3} \\, \\sqrt{10} - \\frac{2}{3}, y = \\frac{1}{6} \\, \\sqrt{10} - \\frac{2}{3}\\right], \\left[p = 1, q = 8, x = \\frac{4}{3} \\, \\sqrt{10} - \\frac{2}{3}, y = -\\frac{1}{6} \\, \\sqrt{10} - \\frac{2}{3}\\right]\\right]\\]</html>"
      ],
      "text/latex": [
       "$$\\newcommand{\\Bold}[1]{\\mathbf{#1}}\\left[\\left[p = 1, q = 8, x = -\\frac{4}{3} \\, \\sqrt{10} - \\frac{2}{3}, y = \\frac{1}{6} \\, \\sqrt{10} - \\frac{2}{3}\\right], \\left[p = 1, q = 8, x = \\frac{4}{3} \\, \\sqrt{10} - \\frac{2}{3}, y = -\\frac{1}{6} \\, \\sqrt{10} - \\frac{2}{3}\\right]\\right]$$"
      ],
      "text/plain": [
       "\\left[\\left[p = 1, q = 8, x = -\\frac{4}{3} \\, \\sqrt{10} - \\frac{2}{3}, y = \\frac{1}{6} \\, \\sqrt{10} - \\frac{2}{3}\\right], \\left[p = 1, q = 8, x = \\frac{4}{3} \\, \\sqrt{10} - \\frac{2}{3}, y = -\\frac{1}{6} \\, \\sqrt{10} - \\frac{2}{3}\\right]\\right]"
      ]
     },
     "execution_count": 28,
     "metadata": {},
     "output_type": "execute_result"
    }
   ],
   "source": [
    "var('x y p q')\n",
    "\n",
    "eq1 = p+q==9\n",
    "eq2 = q*y+p*x==-6\n",
    "eq3 = q*y^2+p*x^2==24\n",
    "\n",
    "latex(solve([eq1,eq2,eq3,p==1],p,q,x,y))"
   ]
  },
  {
   "cell_type": "markdown",
   "id": "f78a0202",
   "metadata": {},
   "source": [
    "# 解方程(数值解)"
   ]
  },
  {
   "cell_type": "code",
   "execution_count": 29,
   "id": "847c9b9a",
   "metadata": {},
   "outputs": [
    {
     "data": {
      "text/html": [
       "<html>\\[\\newcommand{\\Bold}[1]{\\mathbf{#1}}\\left[\\left\\{p : 1, q : 8, x : -\\frac{4}{3} \\, \\sqrt{10} - \\frac{2}{3}, y : \\frac{1}{6} \\, \\sqrt{10} - \\frac{2}{3}\\right\\}, \\left\\{p : 1, q : 8, x : \\frac{4}{3} \\, \\sqrt{10} - \\frac{2}{3}, y : -\\frac{1}{6} \\, \\sqrt{10} - \\frac{2}{3}\\right\\}\\right]\\]</html>"
      ],
      "text/latex": [
       "$$\\newcommand{\\Bold}[1]{\\mathbf{#1}}\\left[\\left\\{p : 1, q : 8, x : -\\frac{4}{3} \\, \\sqrt{10} - \\frac{2}{3}, y : \\frac{1}{6} \\, \\sqrt{10} - \\frac{2}{3}\\right\\}, \\left\\{p : 1, q : 8, x : \\frac{4}{3} \\, \\sqrt{10} - \\frac{2}{3}, y : -\\frac{1}{6} \\, \\sqrt{10} - \\frac{2}{3}\\right\\}\\right]$$"
      ],
      "text/plain": [
       "\\left[\\left\\{p : 1, q : 8, x : -\\frac{4}{3} \\, \\sqrt{10} - \\frac{2}{3}, y : \\frac{1}{6} \\, \\sqrt{10} - \\frac{2}{3}\\right\\}, \\left\\{p : 1, q : 8, x : \\frac{4}{3} \\, \\sqrt{10} - \\frac{2}{3}, y : -\\frac{1}{6} \\, \\sqrt{10} - \\frac{2}{3}\\right\\}\\right]"
      ]
     },
     "execution_count": 29,
     "metadata": {},
     "output_type": "execute_result"
    }
   ],
   "source": [
    "var('x y p q')\n",
    "\n",
    "eq1 = p+q==9\n",
    "eq2 = q*y+p*x==-6\n",
    "eq3 = q*y^2+p*x^2==24\n",
    "\n",
    "solns = solve([eq1,eq2,eq3,p==1],p,q,x,y, solution_dict=True)\n",
    "latex(solns)"
   ]
  },
  {
   "cell_type": "code",
   "execution_count": 9,
   "id": "d66f3ccb",
   "metadata": {},
   "outputs": [
    {
     "data": {
      "text/plain": [
       "[[1.0000000, 8.0000000, -4.8830369, -0.13962039],\n",
       " [1.0000000, 8.0000000, 3.5497035, -1.1937129]]"
      ]
     },
     "execution_count": 9,
     "metadata": {},
     "output_type": "execute_result"
    }
   ],
   "source": [
    "[[s[p].n(30), s[q].n(30), s[x].n(30), s[y].n(30)] for s in solns]"
   ]
  },
  {
   "cell_type": "markdown",
   "id": "2f54eda2",
   "metadata": {},
   "source": [
    "# 解方程(数值解)\n",
    "$ \\cos(\\phi) = \\sin(\\phi), when (0<\\phi<pi/2) $"
   ]
  },
  {
   "cell_type": "code",
   "execution_count": 11,
   "id": "eedb7cee",
   "metadata": {},
   "outputs": [
    {
     "data": {
      "text/plain": [
       "0.7853981633974484"
      ]
     },
     "execution_count": 11,
     "metadata": {},
     "output_type": "execute_result"
    }
   ],
   "source": [
    "phi = var('phi')\n",
    "find_root(cos(phi)==sin(phi),0,pi/2)"
   ]
  },
  {
   "cell_type": "markdown",
   "id": "de5b0aab",
   "metadata": {},
   "source": [
    "# 求导数\n",
    "$\\sin'(u)$"
   ]
  },
  {
   "cell_type": "code",
   "execution_count": 30,
   "id": "dea2e6dc",
   "metadata": {},
   "outputs": [
    {
     "data": {
      "text/html": [
       "<html>\\[\\newcommand{\\Bold}[1]{\\mathbf{#1}}\\cos\\left(u\\right)\\]</html>"
      ],
      "text/latex": [
       "$$\\newcommand{\\Bold}[1]{\\mathbf{#1}}\\cos\\left(u\\right)$$"
      ],
      "text/plain": [
       "\\cos\\left(u\\right)"
      ]
     },
     "execution_count": 30,
     "metadata": {},
     "output_type": "execute_result"
    }
   ],
   "source": [
    "u = var('u')\n",
    "latex(diff(sin(u), u))"
   ]
  },
  {
   "cell_type": "markdown",
   "id": "55308a3d",
   "metadata": {},
   "source": [
    "$[\\sin(x^2)]^{(4)}$"
   ]
  },
  {
   "cell_type": "code",
   "execution_count": 31,
   "id": "0a921fa3",
   "metadata": {},
   "outputs": [
    {
     "data": {
      "text/html": [
       "<html>\\[\\newcommand{\\Bold}[1]{\\mathbf{#1}}16 \\, x^{4} \\sin\\left(x^{2}\\right) - 48 \\, x^{2} \\cos\\left(x^{2}\\right) - 12 \\, \\sin\\left(x^{2}\\right)\\]</html>"
      ],
      "text/latex": [
       "$$\\newcommand{\\Bold}[1]{\\mathbf{#1}}16 \\, x^{4} \\sin\\left(x^{2}\\right) - 48 \\, x^{2} \\cos\\left(x^{2}\\right) - 12 \\, \\sin\\left(x^{2}\\right)$$"
      ],
      "text/plain": [
       "16 \\, x^{4} \\sin\\left(x^{2}\\right) - 48 \\, x^{2} \\cos\\left(x^{2}\\right) - 12 \\, \\sin\\left(x^{2}\\right)"
      ]
     },
     "execution_count": 31,
     "metadata": {},
     "output_type": "execute_result"
    }
   ],
   "source": [
    "latex(diff(sin(x^2), x, 4))"
   ]
  },
  {
   "cell_type": "markdown",
   "id": "c4e3163b",
   "metadata": {},
   "source": [
    "# 偏导数\n",
    "$\\large{\\frac{\\partial (x^2+17y^2)}{\\partial x}}$"
   ]
  },
  {
   "cell_type": "code",
   "execution_count": 32,
   "id": "df66f221",
   "metadata": {
    "scrolled": true
   },
   "outputs": [
    {
     "data": {
      "text/html": [
       "<html>\\[\\newcommand{\\Bold}[1]{\\mathbf{#1}}2 \\, x\\]</html>"
      ],
      "text/latex": [
       "$$\\newcommand{\\Bold}[1]{\\mathbf{#1}}2 \\, x$$"
      ],
      "text/plain": [
       "2 \\, x"
      ]
     },
     "execution_count": 32,
     "metadata": {},
     "output_type": "execute_result"
    }
   ],
   "source": [
    "x, y = var('x,y')\n",
    "\n",
    "f = x^2 + 17*y^2\n",
    "latex(f.diff(x))"
   ]
  },
  {
   "cell_type": "markdown",
   "id": "a042e384",
   "metadata": {},
   "source": [
    "# 常微分方程\n",
    "(调用了Sage对[Maxima](http://maxima.sf.net/)的接口)\n",
    "\n",
    "$ x'+x-1=0 $"
   ]
  },
  {
   "cell_type": "code",
   "execution_count": 33,
   "id": "2ea159d8",
   "metadata": {
    "scrolled": true
   },
   "outputs": [
    {
     "data": {
      "text/html": [
       "<html>\\[\\newcommand{\\Bold}[1]{\\mathbf{#1}}{\\left(C + e^{t}\\right)} e^{\\left(-t\\right)}\\]</html>"
      ],
      "text/latex": [
       "$$\\newcommand{\\Bold}[1]{\\mathbf{#1}}{\\left(C + e^{t}\\right)} e^{\\left(-t\\right)}$$"
      ],
      "text/plain": [
       "{\\left(C + e^{t}\\right)} e^{\\left(-t\\right)}"
      ]
     },
     "execution_count": 33,
     "metadata": {},
     "output_type": "execute_result"
    }
   ],
   "source": [
    "t = var('t')    # define a variable t\n",
    "x = function('x')(t)   # define x to be a function of that variable\n",
    "DE = diff(x, t) + x - 1\n",
    "latex(desolve(DE, [x,t]))"
   ]
  },
  {
   "cell_type": "markdown",
   "id": "fa392225",
   "metadata": {},
   "source": [
    "# 拉普拉斯变换\n",
    "$L[t^2e^t - \\sin(t)]$"
   ]
  },
  {
   "cell_type": "code",
   "execution_count": 34,
   "id": "34729d57",
   "metadata": {},
   "outputs": [
    {
     "data": {
      "text/html": [
       "<html>\\[\\newcommand{\\Bold}[1]{\\mathbf{#1}}-\\frac{1}{s^{2} + 1} + \\frac{2}{{\\left(s - 1\\right)}^{3}}\\]</html>"
      ],
      "text/latex": [
       "$$\\newcommand{\\Bold}[1]{\\mathbf{#1}}-\\frac{1}{s^{2} + 1} + \\frac{2}{{\\left(s - 1\\right)}^{3}}$$"
      ],
      "text/plain": [
       "-\\frac{1}{s^{2} + 1} + \\frac{2}{{\\left(s - 1\\right)}^{3}}"
      ]
     },
     "execution_count": 34,
     "metadata": {},
     "output_type": "execute_result"
    }
   ],
   "source": [
    "s = var(\"s\")\n",
    "t = var(\"t\")\n",
    "f = t^2*exp(t) - sin(t)\n",
    "latex(f.laplace(t,s))"
   ]
  },
  {
   "cell_type": "markdown",
   "id": "c1b797a9",
   "metadata": {},
   "source": [
    "# 微分方程数值解法(欧拉法)\n",
    "函数$z(t)$满足\n",
    "$z''+tz'+z=0$, \n",
    "$z(0)=1$, \n",
    "$z'(0)=0$\n",
    "\n",
    "用欧拉法求z(1)"
   ]
  },
  {
   "cell_type": "code",
   "execution_count": 35,
   "id": "e18bae90",
   "metadata": {},
   "outputs": [
    {
     "name": "stdout",
     "output_type": "stream",
     "text": [
      "         t                    x                h*f(t,x,y)                    y           h*g(t,x,y)\n",
      "         0                    1                      0.00                    0                -0.25\n",
      "       1/4                  1.0                    -0.062                -0.25                -0.23\n",
      "       1/2                 0.94                     -0.12                -0.48                -0.17\n",
      "       3/4                 0.82                     -0.16                -0.66               -0.081\n",
      "         1                 0.65                     -0.18                -0.74                0.022\n"
     ]
    }
   ],
   "source": [
    "#将二阶ODE化为两个一阶DE x=z, y=z'\n",
    "t,x,y = PolynomialRing(RealField(10),3,\"txy\").gens()\n",
    "f = y; g = -x - y * t\n",
    "eulers_method_2x2(f,g, 0, 1, 0, 1/4, 1)"
   ]
  },
  {
   "cell_type": "markdown",
   "id": "a49b8095",
   "metadata": {},
   "source": [
    "# 绘制函数图像(通过微分方程+欧拉法)"
   ]
  },
  {
   "cell_type": "code",
   "execution_count": 36,
   "id": "ee8136a1",
   "metadata": {},
   "outputs": [],
   "source": [
    "f = lambda z: z[2]        # f(t,x,y) = y\n",
    "g = lambda z: -sin(z[1])  # g(t,x,y) = -sin(x)\n",
    "P = eulers_method_2x2_plot(f,g, 0.0, 0.75, 0.0, 0.1, 1.0)"
   ]
  },
  {
   "cell_type": "code",
   "execution_count": 37,
   "id": "e62293b2",
   "metadata": {},
   "outputs": [
    {
     "data": {
      "image/png": "[encoded data removed]",
      "text/plain": [
       "Graphics object consisting of 2 graphics primitives"
      ]
     },
     "metadata": {},
     "output_type": "display_data"
    }
   ],
   "source": [
    "show(P[0] + P[1])"
   ]
  }
 ],
 "metadata": {
  "kernelspec": {
   "display_name": "SageMath 9.5",
   "language": "sage",
   "name": "sagemath-9.5"
  },
  "language_info": {
   "codemirror_mode": {
    "name": "ipython",
    "version": 3
   },
   "file_extension": ".py",
   "mimetype": "text/x-python",
   "name": "python",
   "nbconvert_exporter": "python",
   "pygments_lexer": "ipython3",
   "version": "3.9.9"
  }
 },
 "nbformat": 4,
 "nbformat_minor": 5
}
