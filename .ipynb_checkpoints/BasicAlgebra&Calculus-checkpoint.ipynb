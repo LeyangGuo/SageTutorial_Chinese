{
 "cells": [
  {
   "cell_type": "markdown",
   "id": "de5b0aab",
   "metadata": {},
   "source": [
    "# 求导数"
   ]
  },
  {
   "cell_type": "code",
   "execution_count": 1,
   "id": "dea2e6dc",
   "metadata": {},
   "outputs": [
    {
     "data": {
      "text/plain": [
       "cos(u)"
      ]
     },
     "execution_count": 1,
     "metadata": {},
     "output_type": "execute_result"
    }
   ],
   "source": [
    "u = var('u')\n",
    "diff(sin(u), u)"
   ]
  },
  {
   "cell_type": "markdown",
   "id": "b24d30e1",
   "metadata": {},
   "source": [
    "# 解方程(解析解)\n",
    "## 多项式方程\n",
    "$ x^2+3x+2=0 $"
   ]
  },
  {
   "cell_type": "code",
   "execution_count": 3,
   "id": "2f27b123",
   "metadata": {},
   "outputs": [
    {
     "data": {
      "text/plain": [
       "[x == -2, x == -1]"
      ]
     },
     "execution_count": 3,
     "metadata": {},
     "output_type": "execute_result"
    }
   ],
   "source": [
    "x=var('x')\n",
    "solve(x^2+3*x+2,x)"
   ]
  },
  {
   "cell_type": "markdown",
   "id": "ecd83c49",
   "metadata": {},
   "source": [
    "$ x^2+bx+c=0 $"
   ]
  },
  {
   "cell_type": "code",
   "execution_count": 4,
   "id": "632e44c6",
   "metadata": {},
   "outputs": [
    {
     "data": {
      "text/plain": [
       "[x == -1/2*b - 1/2*sqrt(b^2 - 4*c), x == -1/2*b + 1/2*sqrt(b^2 - 4*c)]"
      ]
     },
     "execution_count": 4,
     "metadata": {},
     "output_type": "execute_result"
    }
   ],
   "source": [
    "x,b,c = var('x b c')\n",
    "solve(x^2+b*x+c,x)"
   ]
  },
  {
   "cell_type": "markdown",
   "id": "bcbde59b",
   "metadata": {},
   "source": [
    "## 线性方程组\n",
    "$\\begin{cases}x+y=6\\\\x-y=4\\end{cases}$"
   ]
  },
  {
   "cell_type": "code",
   "execution_count": 5,
   "id": "73baaf63",
   "metadata": {},
   "outputs": [
    {
     "data": {
      "text/plain": [
       "[[x == 5, y == 1]]"
      ]
     },
     "execution_count": 5,
     "metadata": {},
     "output_type": "execute_result"
    }
   ],
   "source": [
    "x,y = var('x y')\n",
    "eq = [x+y==6, \n",
    "      x-y==4]\n",
    "solve(eq,x,y)"
   ]
  },
  {
   "cell_type": "markdown",
   "id": "fd62f502",
   "metadata": {},
   "source": [
    "## 非线性方程组\n",
    "$ \\begin{cases}\n",
    "p+q==9 \\\\\n",
    "q*y+p*x==-6 \\\\\n",
    "q*y^2+p*x^2==24 \n",
    "\\end{cases}"
   ]
  },
  {
   "cell_type": "code",
   "execution_count": 6,
   "id": "f1ef445e",
   "metadata": {},
   "outputs": [
    {
     "data": {
      "text/plain": [
       "[[p == 1, q == 8, x == -4/3*sqrt(10) - 2/3, y == 1/6*sqrt(10) - 2/3], [p == 1, q == 8, x == 4/3*sqrt(10) - 2/3, y == -1/6*sqrt(10) - 2/3]]"
      ]
     },
     "execution_count": 6,
     "metadata": {},
     "output_type": "execute_result"
    }
   ],
   "source": [
    "var('x y p q')\n",
    "\n",
    "eq1 = p+q==9\n",
    "eq2 = q*y+p*x==-6\n",
    "eq3 = q*y^2+p*x^2==24\n",
    "\n",
    "solve([eq1,eq2,eq3,p==1],p,q,x,y)"
   ]
  },
  {
   "cell_type": "markdown",
   "id": "f78a0202",
   "metadata": {},
   "source": [
    "# 解方程(数值解)"
   ]
  },
  {
   "cell_type": "code",
   "execution_count": 6,
   "id": "847c9b9a",
   "metadata": {},
   "outputs": [
    {
     "data": {
      "text/plain": [
       "[[p == 1, q == 8, x == -4/3*sqrt(10) - 2/3, y == 1/6*sqrt(10) - 2/3], [p == 1, q == 8, x == 4/3*sqrt(10) - 2/3, y == -1/6*sqrt(10) - 2/3]]"
      ]
     },
     "execution_count": 6,
     "metadata": {},
     "output_type": "execute_result"
    }
   ],
   "source": [
    "var('x y p q')\n",
    "\n",
    "eq1 = p+q==9\n",
    "eq2 = q*y+p*x==-6\n",
    "eq3 = q*y^2+p*x^2==24\n",
    "\n",
    "solve([eq1,eq2,eq3,p==1],p,q,x,y)"
   ]
  },
  {
   "cell_type": "markdown",
   "id": "2f54eda2",
   "metadata": {},
   "source": [
    "# 解方程(数值解)"
   ]
  }
 ],
 "metadata": {
  "kernelspec": {
   "display_name": "SageMath 9.5",
   "language": "sage",
   "name": "sagemath-9.5"
  },
  "language_info": {
   "codemirror_mode": {
    "name": "ipython",
    "version": 3
   },
   "file_extension": ".py",
   "mimetype": "text/x-python",
   "name": "python",
   "nbconvert_exporter": "python",
   "pygments_lexer": "ipython3",
   "version": "3.9.9"
  }
 },
 "nbformat": 4,
 "nbformat_minor": 5
}
